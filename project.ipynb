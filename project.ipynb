{
 "nbformat": 4,
 "nbformat_minor": 0,
 "metadata": {
  "colab": {
   "provenance": [],
   "collapsed_sections": [
    "-T3xO1dKaobT",
    "gx4U9jVEa6wd",
    "vjYmYpyFviBY"
   ]
  },
  "kernelspec": {
   "name": "python3",
   "display_name": "Python 3"
  },
  "language_info": {
   "name": "python"
  }
 },
 "cells": [
  {
   "cell_type": "markdown",
   "source": [
    "# Исследование данных на качество"
   ],
   "metadata": {
    "id": "eI2JdNmwNqyh"
   }
  },
  {
   "cell_type": "code",
   "source": [
    "import pandas as pd\n",
    "import seaborn as sns\n",
    "import matplotlib.pyplot as plt"
   ],
   "metadata": {
    "id": "H-Iw1nOQGvG3"
   },
   "execution_count": 1,
   "outputs": []
  },
  {
   "cell_type": "markdown",
   "source": [
    "**Нужно поменять путь к файлу!!!**"
   ],
   "metadata": {
    "id": "lNlGH873ymc3"
   }
  },
  {
   "cell_type": "code",
   "source": [
    "FILENAME = '/content/analysing_environmental_issues.csv'\n",
    "df = pd.read_csv(FILENAME)"
   ],
   "metadata": {
    "id": "74BaueIzDbBt"
   },
   "execution_count": 2,
   "outputs": []
  },
  {
   "cell_type": "markdown",
   "source": [
    "## Удаление пустых строк"
   ],
   "metadata": {
    "id": "-T3xO1dKaobT"
   }
  },
  {
   "cell_type": "code",
   "source": [
    "nan_cols = ['stage_1_output_konv_avd', 'stage_2_input_water_sum',\n",
    "       'stage_2_output_bottom_pressure', 'stage_2_output_bottom_temp',\n",
    "       'stage_2_output_bottom_temp_hum_steam', 'stage_2_output_bottom_vacuum',\n",
    "       'stage_2_output_top_pressure', 'stage_2_output_top_pressure_at_end',\n",
    "       'stage_2_output_top_temp', 'stage_2_output_top_vacuum',\n",
    "       'stage_3_input_pressure', 'stage_3_input_soft_water',\n",
    "       'stage_3_input_steam', 'stage_3_output_temp_hum_steam',\n",
    "       'stage_3_output_temp_top', 'stage_4_input_overheated_steam',\n",
    "       'stage_4_input_polymer', 'stage_4_input_steam', 'stage_4_input_water',\n",
    "       'stage_4_output_danger_gas', 'stage_4_output_dry_residue_avg',\n",
    "       'stage_4_output_product', 'work_shift']\n",
    "df.dropna(subset=nan_cols, how='all', inplace=True)"
   ],
   "metadata": {
    "id": "o2-GxnTLOw3X"
   },
   "execution_count": 3,
   "outputs": []
  },
  {
   "cell_type": "markdown",
   "source": [
    "## Првидение к нужному типу"
   ],
   "metadata": {
    "id": "gx4U9jVEa6wd"
   }
  },
  {
   "metadata": {},
   "cell_type": "code",
   "outputs": [],
   "execution_count": null,
   "source": "df['work_shift'] = df['work_shift'].astype('int')"
  },
  {
   "metadata": {},
   "cell_type": "markdown",
   "source": "## Создание колонок month и day"
  },
  {
   "cell_type": "code",
   "source": [
    "df['DateTime'] = pd.to_datetime(df['DateTime'])\n",
    "df['month'] = df['DateTime'].dt.strftime('%Y-%m')\n",
    "df['day'] = df['DateTime'].dt.strftime('%Y-%m-%d')"
   ],
   "metadata": {
    "id": "AcgsLiQkQ2qt"
   },
   "execution_count": 4,
   "outputs": []
  },
  {
   "cell_type": "markdown",
   "source": [
    "## Заполнение пропусков"
   ],
   "metadata": {
    "id": "vjYmYpyFviBY"
   }
  },
  {
   "cell_type": "code",
   "source": [
    "nan_cols = list(df.columns[df.isna().sum() > 0])\n",
    "nan_cols.remove('stage_4_output_danger_gas')"
   ],
   "metadata": {
    "id": "6YgVITDec4Qd"
   },
   "execution_count": 5,
   "outputs": []
  },
  {
   "cell_type": "code",
   "source": [
    "for col in nan_cols:\n",
    "  df[col] = df[col].interpolate(method='nearest')"
   ],
   "metadata": {
    "id": "4pGvUN9-ZcNg"
   },
   "execution_count": 6,
   "outputs": []
  }
 ]
}
