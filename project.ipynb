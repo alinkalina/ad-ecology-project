{
  "nbformat": 4,
  "nbformat_minor": 0,
  "metadata": {
    "colab": {
      "provenance": [],
      "collapsed_sections": [
        "eI2JdNmwNqyh",
        "-T3xO1dKaobT",
        "gx4U9jVEa6wd"
      ]
    },
    "kernelspec": {
      "name": "python3",
      "display_name": "Python 3"
    },
    "language_info": {
      "name": "python"
    }
  },
  "cells": [
    {
      "cell_type": "markdown",
      "source": [
        "# Исследование данных на качество"
      ],
      "metadata": {
        "id": "eI2JdNmwNqyh"
      }
    },
    {
      "cell_type": "code",
      "source": [
        "import pandas as pd\n",
        "import seaborn as sns\n",
        "import matplotlib.pyplot as plt"
      ],
      "metadata": {
        "id": "H-Iw1nOQGvG3"
      },
      "execution_count": null,
      "outputs": []
    },
    {
      "cell_type": "markdown",
      "source": [
        "**Нужно поменять путь к файлу!!!**"
      ],
      "metadata": {
        "id": "lNlGH873ymc3"
      }
    },
    {
      "cell_type": "code",
      "source": [
        "FILENAME = '/content/analysing_environmental_issues.csv'\n",
        "df = pd.read_csv(FILENAME)"
      ],
      "metadata": {
        "id": "74BaueIzDbBt"
      },
      "execution_count": null,
      "outputs": []
    },
    {
      "cell_type": "markdown",
      "source": [
        "## Удаление пустых строк"
      ],
      "metadata": {
        "id": "-T3xO1dKaobT"
      }
    },
    {
      "cell_type": "code",
      "source": [
        "nan_cols = ['stage_1_output_konv_avd', 'stage_2_input_water_sum',\n",
        "       'stage_2_output_bottom_pressure', 'stage_2_output_bottom_temp',\n",
        "       'stage_2_output_bottom_temp_hum_steam', 'stage_2_output_bottom_vacuum',\n",
        "       'stage_2_output_top_pressure', 'stage_2_output_top_pressure_at_end',\n",
        "       'stage_2_output_top_temp', 'stage_2_output_top_vacuum',\n",
        "       'stage_3_input_pressure', 'stage_3_input_soft_water',\n",
        "       'stage_3_input_steam', 'stage_3_output_temp_hum_steam',\n",
        "       'stage_3_output_temp_top', 'stage_4_input_overheated_steam',\n",
        "       'stage_4_input_polymer', 'stage_4_input_steam', 'stage_4_input_water',\n",
        "       'stage_4_output_danger_gas', 'stage_4_output_dry_residue_avg',\n",
        "       'stage_4_output_product', 'work_shift']\n",
        "df.dropna(subset=nan_cols, how='all', inplace=True)"
      ],
      "metadata": {
        "id": "o2-GxnTLOw3X"
      },
      "execution_count": null,
      "outputs": []
    },
    {
      "cell_type": "markdown",
      "source": [
        "### Првидение к нужному типу"
      ],
      "metadata": {
        "id": "gx4U9jVEa6wd"
      }
    },
    {
      "cell_type": "code",
      "source": [
        "df['work_shift'] = df['work_shift'].astype('int')"
      ],
      "metadata": {
        "id": "AcgsLiQkQ2qt"
      },
      "execution_count": null,
      "outputs": []
    }
  ]
}